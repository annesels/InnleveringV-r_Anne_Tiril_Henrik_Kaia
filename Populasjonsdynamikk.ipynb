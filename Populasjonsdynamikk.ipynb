{
  "nbformat": 4,
  "nbformat_minor": 0,
  "metadata": {
    "colab": {
      "name": "Populasjonsdynamikk.ipynb",
      "version": "0.3.2",
      "provenance": [],
      "collapsed_sections": [],
      "include_colab_link": true
    },
    "kernelspec": {
      "name": "python3",
      "display_name": "Python 3"
    }
  },
  "cells": [
    {
      "cell_type": "markdown",
      "metadata": {
        "id": "view-in-github",
        "colab_type": "text"
      },
      "source": [
        "<a href=\"https://colab.research.google.com/github/annesels/InnleveringV-r_Anne_Tiril_Henrik_Kaia/blob/master/Populasjonsdynamikk.ipynb\" target=\"_parent\"><img src=\"https://colab.research.google.com/assets/colab-badge.svg\" alt=\"Open In Colab\"/></a>"
      ]
    },
    {
      "metadata": {
        "id": "cnbnJr2nBLoT",
        "colab_type": "text"
      },
      "cell_type": "markdown",
      "source": [
        "\n",
        "# **Vi har valgt oppgaven om populasjonsdynamikk!**\n",
        "Av Anne S, Kaia, Tiril og Henrik 2STG.\n",
        "\n",
        "\n",
        "\"Vi befinner oss i en postapokalyptisk situasjon der verden har blittutsatt  for  et  virus  som  gjør  mennesker  om  til  zombier.  Virusetsmitter kun via blod, f.eks. ved bitt eller kloring fra zombier. Viskal studere en avsideliggende landsby, Alexandria, som ligger inærheten av Washington D.C., og som etter et zombie-utbruddhar blitt et tilfluktssted for 500 mennesker. De har tilgang til endel mat og våpen, og de har en mur rundt hele landsbyen somholder zombiene unna. Men de må også ut for å finne nye ressurserog andre mennesker som trenger hjelp, så de er aldri helt trygge.\"\n",
        "\n",
        "\n",
        "Vi skal programmere menneskepopulasjon under en zombie-apokalypse. Oppgaven tar utgangspunkt i å modellere og stimulere populasjondynamikken etter forskjellige faktorer. Vi legger til én og én faktor i hver modell, tester og kommenterer populasjonsutviklingen etter hver faktor i alle oppgavene.\n",
        "\n",
        "Hensikten med dette forsøket er å lære om befolkningsvekst og faktorer som påvirker befolkningen.\n",
        "\n",
        "\n",
        "\n",
        "**PROBLEMSTILLING**\n",
        "\n",
        "Hvordan blir populasjonen påvirket av ulike faktorere?\n",
        "\n",
        "\n",
        "**På grafene våre er* y aksen = tid i dager/år, x = aksen er antall mennesker/zombier.* Hvor mennesker er blå graf, og zombier er oransje graf.**"
      ]
    },
    {
      "metadata": {
        "id": "-K3DgX5tBaPf",
        "colab_type": "text"
      },
      "cell_type": "markdown",
      "source": [
        "**Oppgave 1:**\n",
        "Her lager vi et program og en modell der menneskene er trygge mot zombier og der nye mennesker kommer til ved fødsel og innvandring."
      ]
    },
    {
      "metadata": {
        "id": "Ks--4o-p1918",
        "colab_type": "code",
        "outputId": "c1b06f71-d50d-47e9-a97a-013ebe0efbcb",
        "colab": {
          "base_uri": "https://localhost:8080/",
          "height": 364
        }
      },
      "cell_type": "code",
      "source": [
        "import matplotlib.pyplot as plt\n",
        "\n",
        "#Funksjon som returnerer y' basert på differensiallikningen.\n",
        "def fDeriv(yVerdi):\n",
        "    return (yVerdi*0.021)\n",
        "\n",
        "#a = x-verdien til initialbetingelsen.\n",
        "#y_a = y-verdien til initialbetingelsen.\n",
        "#h = avstanden mellom x-verdiene.\n",
        "#N = antall iterasjoner.\n",
        "\n",
        "def EulersMetode(a, y_a, h, N):\n",
        "    x = []\n",
        "    y = []\n",
        "\n",
        "    for k in range(N):\n",
        "        y_ny = y_a+fDeriv(y_a)*h\n",
        "        a += h\n",
        "        x.append(a)\n",
        "        y.append(y_ny)\n",
        "        \n",
        "        y_a = y_ny\n",
        "\n",
        "    return x, y \n",
        "\n",
        "x, y = EulersMetode(0, 500, 1, 100)\n",
        "plt.plot(x,y)"
      ],
      "execution_count": 0,
      "outputs": [
        {
          "output_type": "execute_result",
          "data": {
            "text/plain": [
              "[<matplotlib.lines.Line2D at 0x7f309ecbd470>]"
            ]
          },
          "metadata": {
            "tags": []
          },
          "execution_count": 4
        },
        {
          "output_type": "display_data",
          "data": {
            "image/png": "[encoded data removed]",
            "text/plain": [
              "<Figure size 576x396 with 1 Axes>"
            ]
          },
          "metadata": {
            "tags": []
          }
        }
      ]
    },
    {
      "metadata": {
        "id": "x2Uj_n-9BcXE",
        "colab_type": "text"
      },
      "cell_type": "markdown",
      "source": [
        "I oppgave 1 begynte vi med å legge inn variablene med gode navn og verdi. Lagde x- og y-verdiene slik at vi kan bruke de til å plotte grafen. Vi brukte Eulers metode. Det er en metode der vi løser en differentiallikning ved å gi en startverdi for løsningen vi er interessert i, og bruker den deriverte for å regne løsningen som følger etter startverdien. Vi bruker en førsteordens differenstialikning for å regne ut stigningstallet til tangenten for punktet som ligger på kurven. Da kan vi gå delta x mot høyre og delta y oppover langs tangenten til løsningskurven. Så blir den nye veriden funke som en ny startverdig for å beregne verdien som følger etter den. Vi bruker stigningstallet i hele intervallet. Ved å bruke det får vi et nokså nøyaktig resultat. Sånn fortsetter vi helt til vi har så mange punkter at vi er interessert i, for å beskrive grafen. \n",
        "\n",
        "På denne figuren ser vi et eksempel på eksponentiell vekst, der det skjer en voldsom vekst i antall mennesker i Alexandria, uten begrensninger som sykdom og død. "
      ]
    },
    {
      "metadata": {
        "id": "OwtR6Djy9Xhp",
        "colab_type": "text"
      },
      "cell_type": "markdown",
      "source": [
        "**Oppgave 2:**\n",
        "I dette programmet legger vi til en resurrsbegrensning, en bæreevne. Bæreevne vil si det maksimale antall individer som kan leve på et avgrenset område over lang tid. For vår populasjon, ser det slik ut:\n"
      ]
    },
    {
      "metadata": {
        "id": "ukeSZzOA_3yi",
        "colab_type": "code",
        "outputId": "12cfbdc7-05fb-40a9-92c5-53ea267196bc",
        "colab": {
          "base_uri": "https://localhost:8080/",
          "height": 286
        }
      },
      "cell_type": "code",
      "source": [
        "#2\n",
        "\n",
        "import matplotlib.pyplot as plt\n",
        "\n",
        "#Funksjon som returnerer y' basert på differensiallikningen.\n",
        "def fDeriv(yVerdi):\n",
        "    return (0.0000105*(yVerdi*(2500-yVerdi)))\n",
        "\n",
        "#a = x-verdien til initialbetingelsen.\n",
        "#y_a = y-verdien til initialbetingelsen.\n",
        "#h = avstanden mellom x-verdiene.\n",
        "#N = antall iterasjoner.\n",
        "\n",
        "def EulersMetode(a, y_a, h, N):\n",
        "    x = []\n",
        "    y = []\n",
        "\n",
        "    for k in range(N):\n",
        "        y_ny = y_a+fDeriv(y_a)*h \n",
        "        a += h\n",
        "        x.append(a)\n",
        "        y.append(y_ny)\n",
        "       \n",
        "        \n",
        "        y_a = y_ny\n",
        "\n",
        "    return x, y \n",
        "\n",
        "x, y = EulersMetode(0, 500, 1, 500)\n",
        "plt.plot(x,y)\n",
        "\n"
      ],
      "execution_count": 0,
      "outputs": [
        {
          "output_type": "execute_result",
          "data": {
            "text/plain": [
              "[<matplotlib.lines.Line2D at 0x7f3ab865a7b8>]"
            ]
          },
          "metadata": {
            "tags": []
          },
          "execution_count": 13
        },
        {
          "output_type": "display_data",
          "data": {
            "image/png": "[encoded data removed]",
            "text/plain": [
              "<Figure size 432x288 with 1 Axes>"
            ]
          },
          "metadata": {
            "tags": []
          }
        }
      ]
    },
    {
      "metadata": {
        "id": "v96sIaZMr8JE",
        "colab_type": "text"
      },
      "cell_type": "markdown",
      "source": [
        "Vi regnet ut at *k* er lik 0.0000105 etter differensiallikningen N'= *k* * N * (2500 - N), som vi hentet fra en tidligere økologioppgave i en programmeringstime. Biologer har funnet ut at under ustabile forhold i et område med bæreevne B, vil en modell hvor veksten er proporsjonal med både antall individer og differensen mellom bæreevnen og antall individer, beskrive utviklingen på en god måte. N'=k⋅N⋅(B−N). Denne modellen vil veksten være null når antall individer har nådd bæreevnen. Så løser vi likningen med Eulers metode og får grafen. På figuren ser du at befolkningen øker til en viss grad men slakner ut etter cirka 200 år, og forblir stabil. Her ser du at antall mennekser stabiliserer seg på det som er bæreevnen til vår populasjon, altså på 2250. Når antall individer stabiliserer seg på områdets bæreevne, har vi som vi ser, en vekst mot bæreevnen.\n",
        "\n",
        "\n",
        "\n"
      ]
    },
    {
      "metadata": {
        "id": "7qcsgnNW9wJL",
        "colab_type": "text"
      },
      "cell_type": "markdown",
      "source": [
        "**Oppgave 3:**\n",
        "I modellen her legger vi til fire sannsynlige faktorer som menneskene kan dø av, nemlig sykdom, skade og alderdom:"
      ]
    },
    {
      "metadata": {
        "id": "uVTS7G_C8hb-",
        "colab_type": "code",
        "outputId": "02a30a48-162f-445a-afb7-85ce8f0b3c6d",
        "colab": {
          "base_uri": "https://localhost:8080/",
          "height": 286
        }
      },
      "cell_type": "code",
      "source": [
        "#3\n",
        "\n",
        "import matplotlib.pyplot as plt\n",
        "\n",
        "#Funksjon som returnerer y' basert på differensiallikningen.\n",
        "def fDeriv(yVerdi):\n",
        "    return (0.0000105*(yVerdi*(2500-yVerdi)))\n",
        "\n",
        "#a = x-verdien til initialbetingelsen.\n",
        "#y_a = y-verdien til initialbetingelsen.\n",
        "#h = avstanden mellom x-verdiene.\n",
        "#N = antall iterasjoner.\n",
        "\n",
        "def EulersMetode(a, y_a, h, N):\n",
        "    x = []\n",
        "    y = []\n",
        "\n",
        "    for k in range(N):\n",
        "        death = y_a*0.015\n",
        "        y_ny = y_a+fDeriv(y_a)*h - death\n",
        "        a += h\n",
        "        x.append(a)\n",
        "        y.append(y_ny)\n",
        "       \n",
        "       \n",
        "        \n",
        "        y_a = y_ny\n",
        "\n",
        "    return x, y \n",
        "\n",
        "x, y = EulersMetode(0, 500, 1, 500)\n",
        "plt.plot(x,y)"
      ],
      "execution_count": 0,
      "outputs": [
        {
          "output_type": "execute_result",
          "data": {
            "text/plain": [
              "[<matplotlib.lines.Line2D at 0x7f3ab82e2630>]"
            ]
          },
          "metadata": {
            "tags": []
          },
          "execution_count": 23
        },
        {
          "output_type": "display_data",
          "data": {
            "image/png": "[encoded data removed]",
            "text/plain": [
              "<Figure size 432x288 with 1 Axes>"
            ]
          },
          "metadata": {
            "tags": []
          }
        }
      ]
    },
    {
      "metadata": {
        "id": "tdyR-R7AeyZm",
        "colab_type": "text"
      },
      "cell_type": "markdown",
      "source": [
        "Grafen viser at for mange populasjoner vil veksten avta når populasjonen bærmer seg bæreevnen. Begrensningene i antallet skyldes faktorene som sykdom, skade og alderdom. Dødsraten satte vi til 0.015, som blir trukket fra i den nye mennekse populasjonen.  Dette er tetthetsavhengige faktorer, for når en populasjon nærmer seg bæreevnen vil det bli knapphet på ressurser og det blir et press på bestanden, slik at grafen flater ut på toppen. En logistisk vekst som denne ligner påm skjer det nemlig en begrensning jevnt mot en maksimal størrelse.\n"
      ]
    },
    {
      "metadata": {
        "id": "Wi7WxRI4B99d",
        "colab_type": "text"
      },
      "cell_type": "markdown",
      "source": [
        "**Oppgave 4:**\n",
        "Vi legger til en zombiepopulasjon og verdier for at mennesker blir drept av zombier. Her fungerer zombiene som rovdyr:"
      ]
    },
    {
      "metadata": {
        "id": "MORceLUEfJDd",
        "colab_type": "code",
        "outputId": "d154ecd2-975a-42f5-88eb-0537cfbddc5e",
        "colab": {
          "base_uri": "https://localhost:8080/",
          "height": 286
        }
      },
      "cell_type": "code",
      "source": [
        "#4\n",
        "\n",
        "import matplotlib.pyplot as plt\n",
        "\n",
        "#Funksjon som returnerer y' basert på differensiallikningen.\n",
        "def fDeriv(yVerdi):\n",
        "    return (0.0000105*(yVerdi*(2500-yVerdi)))\n",
        "\n",
        "#a = x-verdien til initialbetingelsen.\n",
        "#y_a = Antall mennesker til å begynne med\n",
        "#h = avstanden mellom x-verdiene.\n",
        "#N = antall iterasjoner.\n",
        "#z_a = Zombie populasjonen til å begynne med\n",
        "\n",
        "def EulersMetode(a, y_a, z_a, h, N):\n",
        "    x = []\n",
        "    y = []\n",
        "    z = []\n",
        "    \n",
        "    \n",
        "\n",
        "    for k in range(N):\n",
        "        death = y_a*0.001\n",
        "        death_from_zombies = 0.001*z_a*y_a \n",
        "        y_ny = y_a+ fDeriv(y_a)*h - death - death_from_zombies\n",
        "        \n",
        "\n",
        "\n",
        "        z_ny = z_a\n",
        "        \n",
        "        \n",
        "        a += h\n",
        "        x.append(a)\n",
        "        y.append(y_ny)\n",
        "        z.append(z_ny)\n",
        "       \n",
        "        \n",
        "        y_a = y_ny\n",
        "        z_a = z_ny\n",
        "\n",
        "    return x, y, z\n",
        "\n",
        "x, y, z = EulersMetode(0, 500,75, 3, 2000)\n",
        "plt.plot(x,y)\n",
        "plt.plot(x,z)"
      ],
      "execution_count": 0,
      "outputs": [
        {
          "output_type": "execute_result",
          "data": {
            "text/plain": [
              "[<matplotlib.lines.Line2D at 0x7f3666c7b240>]"
            ]
          },
          "metadata": {
            "tags": []
          },
          "execution_count": 39
        },
        {
          "output_type": "display_data",
          "data": {
            "image/png": "[encoded data removed]",
            "text/plain": [
              "<Figure size 432x288 with 1 Axes>"
            ]
          },
          "metadata": {
            "tags": []
          }
        }
      ]
    },
    {
      "metadata": {
        "id": "BsGZiDmsvhYJ",
        "colab_type": "text"
      },
      "cell_type": "markdown",
      "source": [
        "Mennesker (blå), Zombier (oransje). Her er zombie populasjonen konstant, fordi det er ingen som dør eller flere som kommer til. Menneskepopulasjonen synker i det zombiepopulasjonen dreper menneskene. De dreper flere mennesker enn det kommer til, derfor synker menneskepopulasjonen.\n",
        "\n",
        "I denne modellen så har vi valgt faktoren til at menneskene kan bli drept av zombier som 0.001, som blir trukket fra den nye menneskepopulasjonen. "
      ]
    },
    {
      "metadata": {
        "id": "v_G9rKtfDcg5",
        "colab_type": "text"
      },
      "cell_type": "markdown",
      "source": [
        "**Oppgave 5:**\n",
        " I programmet vårt her,  legger vi inn muligheten for at mennesker blir til zombier, og dersom de gjør det, skal zombipopulasjonen også øke. "
      ]
    },
    {
      "metadata": {
        "id": "HlGLc8E-shXR",
        "colab_type": "code",
        "outputId": "960c6dfd-e21d-4e09-f69f-f7a1b71cbc26",
        "colab": {
          "base_uri": "https://localhost:8080/",
          "height": 286
        }
      },
      "cell_type": "code",
      "source": [
        "#5\n",
        "\n",
        "import matplotlib.pyplot as plt\n",
        "\n",
        "#Funksjon som returnerer y' basert på differensiallikningen.\n",
        "def fDeriv(yVerdi):\n",
        "    return (0.0000105*(yVerdi*(2500-yVerdi)))\n",
        "\n",
        "#a = x-verdien til initialbetingelsen.\n",
        "#y_a = Antall mennesker til å begynne med\n",
        "#h = avstanden mellom x-verdiene.\n",
        "#N = antall iterasjoner.\n",
        "#z_a = Zombie populasjonen til å begynne med\n",
        "\n",
        "def EulersMetode(a, y_a, z_a, h, N):\n",
        "    x = []\n",
        "    y = []\n",
        "    z = []\n",
        "    \n",
        "    \n",
        "\n",
        "    for k in range(N):\n",
        "        conversion = 0.0001*z_a*y_a\n",
        "        death = y_a*0.01\n",
        "        death_from_zombies = 0.001*z_a*y_a\n",
        "        y_ny = y_a+ fDeriv(y_a)*h - death - death_from_zombies - conversion\n",
        "        \n",
        "\n",
        "#Ny zombie populasjonen når menneksene kan bli til zombier. \n",
        "        z_ny = z_a + conversion\n",
        "        \n",
        "        \n",
        "        a += h\n",
        "        x.append(a)\n",
        "        y.append(y_ny)\n",
        "        z.append(z_ny)\n",
        "       \n",
        "        \n",
        "        y_a = y_ny\n",
        "        z_a = z_ny\n",
        "\n",
        "    return x, y, z\n",
        "\n",
        "x, y, z = EulersMetode(0, 500,50, 1, 200)\n",
        "plt.plot(x,y)\n",
        "plt.plot(x,z)"
      ],
      "execution_count": 0,
      "outputs": [
        {
          "output_type": "execute_result",
          "data": {
            "text/plain": [
              "[<matplotlib.lines.Line2D at 0x7f3666bc6f98>]"
            ]
          },
          "metadata": {
            "tags": []
          },
          "execution_count": 40
        },
        {
          "output_type": "display_data",
          "data": {
            "image/png": "[encoded data removed]",
            "text/plain": [
              "<Figure size 432x288 with 1 Axes>"
            ]
          },
          "metadata": {
            "tags": []
          }
        }
      ]
    },
    {
      "metadata": {
        "id": "cQljcMA_whE6",
        "colab_type": "text"
      },
      "cell_type": "markdown",
      "source": [
        "I denne modellen har vi valgt en faktor (0.0001) som konverterer mennesker til zombier, de blir trukket fra menneskepopulasjonen og lagt til i zombiepopulasjonen\n",
        "\n",
        "På figuren ser du at zombiepopulasjonen blir i flertall, fordi menneskene som blir bitt blir til zombier, mens noen av menneskene blir drept av zombiene. Derfor blir zombiepopulasjonen i flertall og dreper menneskepopulasjonen, som dermed synker. Zombiepopulasjonen flater ut etterhvert ettersom det ikke vil være flere mennesker igjen til å konvertere til zombier. "
      ]
    },
    {
      "metadata": {
        "id": "Q4yeDBwuE3hI",
        "colab_type": "text"
      },
      "cell_type": "markdown",
      "source": [
        "**Oppgave 6:**\n",
        "Vi legger inn faktorer som bidrar til at menneskene kan ta livet av zombiene:"
      ]
    },
    {
      "metadata": {
        "id": "FSwNpT03t6O5",
        "colab_type": "code",
        "outputId": "2a6cd1b5-e612-4b53-8650-6867d07227b9",
        "colab": {
          "base_uri": "https://localhost:8080/",
          "height": 286
        }
      },
      "cell_type": "code",
      "source": [
        "#6\n",
        "\n",
        "import matplotlib.pyplot as plt\n",
        "\n",
        "#Funksjon som returnerer y' basert på differensiallikningen.\n",
        "def fDeriv(yVerdi):\n",
        "    return (0.0000105*(yVerdi*(2500-yVerdi)))\n",
        "\n",
        "#a = x-verdien til initialbetingelsen.\n",
        "#y_a = Antall mennesker til å begynne med\n",
        "#h = avstanden mellom x-verdiene.\n",
        "#N = antall iterasjoner.\n",
        "#z_a = Zombie populasjonen til å begynne med\n",
        "\n",
        "def EulersMetode(a, y_a, z_a, h, N):\n",
        "    x = []\n",
        "    y = []\n",
        "    z = []\n",
        "    \n",
        "    \n",
        "\n",
        "    for k in range(N):\n",
        "        conversion = 0.0001*z_a*y_a\n",
        "        death = y_a*0.01\n",
        "        death_from_zombies = 0.001*z_a*y_a\n",
        "        y_ny = y_a+ fDeriv(y_a)*h - death - death_from_zombies - conversion\n",
        "        \n",
        "\n",
        "        zombie_kills = y_a*z_a*0.0006\n",
        "#Ny zombie populasjonen etter at menneskene kan drepe dem\n",
        "        z_ny = z_a + conversion - zombie_kills\n",
        "  \n",
        "        \n",
        "        \n",
        "        a += h\n",
        "        x.append(a)\n",
        "        y.append(y_ny)\n",
        "        z.append(z_ny)\n",
        "       \n",
        "        \n",
        "        y_a = y_ny\n",
        "        z_a = z_ny\n",
        "\n",
        "    return x, y, z\n",
        "\n",
        "x, y, z = EulersMetode(0, 500,200, 1, 200)\n",
        "plt.plot(x,y)\n",
        "plt.plot(x,z)"
      ],
      "execution_count": 0,
      "outputs": [
        {
          "output_type": "execute_result",
          "data": {
            "text/plain": [
              "[<matplotlib.lines.Line2D at 0x7f3666b127b8>]"
            ]
          },
          "metadata": {
            "tags": []
          },
          "execution_count": 42
        },
        {
          "output_type": "display_data",
          "data": {
            "image/png": "[encoded data removed]",
            "text/plain": [
              "<Figure size 432x288 with 1 Axes>"
            ]
          },
          "metadata": {
            "tags": []
          }
        }
      ]
    },
    {
      "metadata": {
        "id": "RFxoWJkPxTt5",
        "colab_type": "text"
      },
      "cell_type": "markdown",
      "source": [
        "I denne modellen har vi valgt en faktor (0.0006) som bidrar til at menneskene kan drepe zombiene, som blir trukket fra i zombiepopulasjonen. \n",
        "\n",
        "På grafen ser du at begge populasjonene synker i starten fordi de dreper hverandre, men etterhvert så får menneskene overtaket og vinner mot zombiene, som etterhvert dør ut."
      ]
    },
    {
      "metadata": {
        "id": "KcsCMoO7G-sP",
        "colab_type": "text"
      },
      "cell_type": "markdown",
      "source": [
        "**Oppgave 7:**\n",
        "Vi inkluderer hjelp og forsterkninger som Alexandria kan få fra landsbyene Hilltop og Kingdom, som faktorer i modellen vår:"
      ]
    },
    {
      "metadata": {
        "id": "hEMehqcewBvT",
        "colab_type": "code",
        "outputId": "2bdb6b38-d7a2-4242-a685-5d7fa1af20a8",
        "colab": {
          "base_uri": "https://localhost:8080/",
          "height": 286
        }
      },
      "cell_type": "code",
      "source": [
        "#7\n",
        "\n",
        "import matplotlib.pyplot as plt\n",
        "\n",
        "#Funksjon som returnerer y' basert på differensiallikningen.\n",
        "def fDeriv(yVerdi):\n",
        "    return (0.0000105*(yVerdi*(2500-yVerdi)))\n",
        "\n",
        "#a = x-verdien til initialbetingelsen.\n",
        "#y_a = Antall mennesker til å begynne med\n",
        "#h = avstanden mellom x-verdiene.\n",
        "#N = antall iterasjoner.\n",
        "#z_a = Zombie populasjonen til å begynne med\n",
        "\n",
        "def EulersMetode(a, y_a, z_a, h, N):\n",
        "    x = []\n",
        "    y = []\n",
        "    z = []\n",
        "    \n",
        "    \n",
        "\n",
        "    for k in range(N):\n",
        "        conversion = 0.0001*z_a*y_a\n",
        "        death = y_a*0.01\n",
        "        new_people = 10\n",
        "        #Ny menneskepopulasjon etter det kommer forsterkninger fra nabo landsbyene. \n",
        "        y_ny = y_a+ fDeriv(y_a)*h - death - 0.001*z_a*y_a - conversion + new_people\n",
        "        \n",
        "  \n",
        "        zombie_kills = y_a*z_a*0.0006\n",
        "        z_ny = z_a + conversion - zombie_kills\n",
        "        \n",
        "        \n",
        "        a += h\n",
        "        x.append(a)\n",
        "        y.append(y_ny)\n",
        "        z.append(z_ny)\n",
        "       \n",
        "        \n",
        "        y_a = y_ny\n",
        "        z_a = z_ny\n",
        "\n",
        "    return x, y, z\n",
        "\n",
        "x, y, z = EulersMetode(0, 500,200, 1, 200)\n",
        "plt.plot(x,y)\n",
        "plt.plot(x,z)"
      ],
      "execution_count": 0,
      "outputs": [
        {
          "output_type": "execute_result",
          "data": {
            "text/plain": [
              "[<matplotlib.lines.Line2D at 0x7f3666a7f908>]"
            ]
          },
          "metadata": {
            "tags": []
          },
          "execution_count": 44
        },
        {
          "output_type": "display_data",
          "data": {
            "image/png": "[encoded data removed]",
            "text/plain": [
              "<Figure size 432x288 with 1 Axes>"
            ]
          },
          "metadata": {
            "tags": []
          }
        }
      ]
    },
    {
      "metadata": {
        "id": "jWtwTaeE1S70",
        "colab_type": "text"
      },
      "cell_type": "markdown",
      "source": [
        "I denne modellen har vi plusset menneskepopulasjonen med 10. \n",
        "\n",
        "På grafen ser du i starten at begge populasjonene synker, fordi de dreper hverandre. Etter noen uker ser du at menneskepopulasjonen får overtaket og populasjonen øker, mens zombiepopulasjonen dør ut. "
      ]
    },
    {
      "metadata": {
        "id": "zFSc1wSPMENV",
        "colab_type": "text"
      },
      "cell_type": "markdown",
      "source": [
        "**Bonusoppgave 7:**\n",
        "Vi legger til en ekstra funksjon på oppg. 7, ved at hver hundrede dag kom det en gruppe med 100 folk. Mer sannsynlig at menneskene fra nabolandsbyene kommer i grupper, pga familie osv.  Derfor legger vi til en immigrasjonsrate på 100."
      ]
    },
    {
      "metadata": {
        "id": "hV5cn5DJwu06",
        "colab_type": "code",
        "outputId": "348ebe4c-8c26-4687-f852-f458aaa4ff0d",
        "colab": {
          "base_uri": "https://localhost:8080/",
          "height": 286
        }
      },
      "cell_type": "code",
      "source": [
        "#7+\n",
        "\n",
        "\n",
        "\n",
        "import matplotlib.pyplot as plt\n",
        "\n",
        "#Funksjon som returnerer y' basert på differensiallikningen.\n",
        "def fDeriv(yVerdi):\n",
        "    return (0.0000105*(yVerdi*(2500-yVerdi)))\n",
        "\n",
        "#a = x-verdien til initialbetingelsen.\n",
        "#y_a = Antall mennesker til å begynne med\n",
        "#h = avstanden mellom x-verdiene.\n",
        "#N = antall iterasjoner.\n",
        "#z_a = Zombie populasjonen til å begynne med\n",
        "\n",
        "def EulersMetode(a, y_a, z_a, h, N):\n",
        "    x = []\n",
        "    y = []\n",
        "    z = []\n",
        "    \n",
        "    \n",
        "\n",
        "    for k in range(N):\n",
        "      \n",
        "        conversion = 0.0005*z_a*y_a\n",
        "\n",
        "\n",
        "        death = y_a*0.01\n",
        "        #Ny menneskepopulasjon etter det kommer forsterkninger fra nabo landsbyene.\n",
        "        y_ny = y_a+ fDeriv(y_a)*h - death - 0.0001*z_a*y_a - conversion \n",
        "        \n",
        "        # Hver n. dag kommer det nye folk fra nabobyene. Det kommer puljer med 100 folk hver 100 dag.\n",
        "        if k%100==0:\n",
        "          y_ny += 70\n",
        "\n",
        "        zombie_kills = y_a*z_a*0.0006\n",
        "        z_ny = z_a + conversion - zombie_kills\n",
        "        \n",
        "        \n",
        "        \n",
        "        a += h\n",
        "        x.append(a)\n",
        "        y.append(y_ny)\n",
        "        z.append(z_ny)\n",
        "       \n",
        "        \n",
        "        y_a = y_ny\n",
        "        z_a = z_ny\n",
        "\n",
        "    return x, y, z\n",
        "\n",
        "x, y, z = EulersMetode(0, 500,200, 1, 500)\n",
        "plt.plot(x,y)\n",
        "plt.plot(x,z)"
      ],
      "execution_count": 0,
      "outputs": [
        {
          "output_type": "execute_result",
          "data": {
            "text/plain": [
              "[<matplotlib.lines.Line2D at 0x7f3666a15e80>]"
            ]
          },
          "metadata": {
            "tags": []
          },
          "execution_count": 46
        },
        {
          "output_type": "display_data",
          "data": {
            "image/png": "[encoded data removed]",
            "text/plain": [
              "<Figure size 432x288 with 1 Axes>"
            ]
          },
          "metadata": {
            "tags": []
          }
        }
      ]
    },
    {
      "metadata": {
        "id": "XEKwKpZbq9Jk",
        "colab_type": "text"
      },
      "cell_type": "markdown",
      "source": [
        "På denne modellen har vi gjort at det kommer puljer med mennesker samtidig, for det er mer realistisk. Det kommer hundre nye mennesker hver 100. dag. \n",
        "\n",
        "På grafen kan du se at menneskepopulasjonen og zombiepopulasjonen dør relativt raskt ut i starten, fordi de dreper hverandre, men så kommer det 100 nye folk hver hundrede dag, men de dør raskt ut på grunn av zombiene. Men zombiepopulasjonen synker fordi det er flere zombier som blir drept, enn mennesker som blir konvertert til zombier. Men rundt dag 300 får menneskene overtak, så de dreper zombiene så de dør ut, mens menneskepopulasjonen vokser. "
      ]
    },
    {
      "metadata": {
        "id": "2Qo7ISy5moDD",
        "colab_type": "text"
      },
      "cell_type": "markdown",
      "source": [
        "**RAPPORT**\n",
        "\n",
        "**INNLEDNING OG METODE**\n",
        "\n",
        "Vi satt problemstillingen vår som hvordan en populasjon blir påvirket av ulike faktorere. \n",
        "I oppgaven vår har vi laget et program som inneholder en befolkning som øker (endringer i populasjonsstørrelse), bæreevnen for denne populasjonen (med fødselsrate), sykdom og skade som påvirker befolkningen (dødsrate), en zombie populasjon som kan drepe befolkningen, hvor sannsynelig det er for at mennesker blir til zombier, befolkningen kan drepe zombiene og nye forsterkninger fra nabolandsbyer (immigrasjonsrate). \n",
        "\n",
        "\n",
        "Vi startet med å programmere et program der befolkningen til menneskene økte, uten begrensninger. Her brukte vi eulersmetode og plottet inn befolkningveksten i en graf. \n",
        "\n",
        "Videre lagde vi en bæreevne for populasjonen. Faktorer som påvirker bæreevnen er det vi kaller for tetthetsregulerende faktorer, som kan være tilgang på mat og ressurser osv. En svært økende populasjon uten noen begrensiner som sykdom eller død vil ikke ha nok tilgang til mat og ressurser for hele befolkningen. En annen faktor for bæreevnen er plassmangel, Alexandria vil ikke ha plass til en voldsom økende befolkning.  Derfor har vi funnet en bæreevne til befolkningen slik at det vil være nok ressurser for alle. \n",
        "\n",
        "Så la vi inn i programmet vårt av menneskene kan dø av sykdom, skade og alderdom. Hvor en stor faktor som spiller rolle her er tilgang på medisiner og lege. Dødsraten satt vi på 0.015. \n",
        "\n",
        "Videre la vi inn en zombiepopulasjon som lever i nærheten av alexandria. Hvor zombiene fungerer som rovdyr og vil drepe mennesker. Men menneskene kan kun bli drept og ikke til zombier. Her satt vi inn en faktor (0.001) på at menneskene ble drept av zombier. \n",
        "\n",
        "Senere la vi til at mennesker kan nå bli til zombier ved at de blir bitt, men at det er en sannsynlighet at de kan dø også. Faktoren vi brukte til at mennesker konverterer til zombier var 0.0001. \n",
        "\n",
        "Vi satt inn at menneskene nå kan slå tilbake mot zombiene. Her satt vi inn en faktor på 0.0006\n",
        "\n",
        "I oppgave 7 kommer det forsterkninger til Alexandia ved behov fra nabolandsbyene. I denne oppgaven har vi lekt til frem og tilbake. Vi lagde et program hvor det kom 10 nye mennesker og et program hvor det kom 100 mennesker samtidig hver hundrede dag. \n",
        "\n",
        "\n",
        "\n",
        "\n",
        "**RESULTATER, DISKUSJON OG KONKLUSJON**\n",
        "\n",
        "Hensikten med forsøket var å lære om befolkningsvekst og faktorer som påvirker befolkningen, noe vi i stor grad har gjort. \n",
        "\n",
        "Vi har lagd et prosjekt om populasjonsdynamikk bestående av syv oppgaver. Hver av oppgavene har sin egen modell, med utgangspunkt i de samme programmene, men der faktorene er lagt til enkeltvis én etter én. Alle programmene er derfor er uavhengige av hverandre, og er litt eller ganske forksjellige fra den før, men alle har en sammenheng.\n",
        "\n",
        "Begrensninger eller feilkilder for modellene kan være at vi brukte svært lave tall, og i tillegg bør man merke seg at zombie- og menneskebefolkningen noen steder er forskjellige fra hverandre, som i oppg. 7 og 7+, det der blir en stor forskjell i resultatet. I 7 ser man at menneskene er i flertall og overlever, kontra i oppg. 7+, der det er motsatt. En annen begrensing for programmene våres er at dette bare er en modell av virkeligheten, dette er basert på antagelser. \n",
        "\n",
        "En populasjonsberegning, som vi har drevet med her, skal i beste fall gi en antydning om folkemengden, men som alle andre modeller viser det en tilnærming av naturen - bare naturen selv kan være det eksakte svaret. I oppgavene der vi la til begrensninger for populasjonsveksten, inneholder ikke programmet vårt andre faktorer enn de som står i oppgaven, sykdom, skade og alderdom. Både abiotiske og biotiske faktorer, som sollys (som matproduksjon hadde vært avhengig av) eller vanntilgang, kunne vært noe å legge til for å gjøre modellene våre svært nøyaktige, men det hadde vi ingen opplysninger om så valgte det bort denne gangen. \n",
        "\n",
        "\n",
        "\n",
        "\n"
      ]
    },
    {
      "metadata": {
        "id": "JoyJt5fxmq8w",
        "colab_type": "code",
        "colab": {}
      },
      "cell_type": "code",
      "source": [
        ""
      ],
      "execution_count": 0,
      "outputs": []
    }
  ]
}